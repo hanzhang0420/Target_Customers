{
 "cells": [
  {
   "cell_type": "markdown",
   "metadata": {},
   "source": [
    "### Part1: Load Dataset (Query Result From SQL), Data Cleaning and Feature Engineering \n",
    "\n",
    "About __Episode__, is a mobile storytelling network and platform that features interactive Hollywood-caliber stories built from the ground up for mobile. It ranked #1 in role-playing games on App Store and was released on Feb 2014. The goal of this project is to devise a scheme to specify a target group and offer a promotion, therefore maximize incremental revenue. You need to prescribe a test protocol that can be used to evaluate the results. \n",
    "\n",
    "The main purpose of the notebook is to clean the data from SQL selection and generate [new features](https://gameanalytics.com/blog/metrics-all-game-developers-should-know.html). \n",
    "\n",
    "- Original Features:   \n",
    "__users__: udid, install_date, lang, country, hw_ver, os_ver  \n",
    "__sessions__: session_ts, session_date, session_num (ordered by session_ts)  \n",
    "__iaps__: iaps_ts, iaps_date, prod_name, prod_type, rev (ordered by iaps_ts)  \n",
    "__spendevents__: spend_ts, spend_date, story+chapter, spendtype (contains the information of iaps), currency (all the same), amount (ordered by spend_ts) \n",
    "\n",
    "- Generated Features:  \n",
    "__delta_days_sess__, __delta_days_spend__, __delta_days_iaps__ are the time difference between each session/spend/purchase and installment date in units of days.  \n",
    "__total_story__ is the total num of unique stories&chapters episode users played.  \n",
    "__total_session/spend__ are the total num of sessions/purchase per user.  \n",
    "__active_session/spend_day__ are the number of days each user that start/spend money at least one session in the app on any given day.  \n",
    "__avg_session_duration__ averaged session duration.  \n",
    "__avg_session_per_day__ the averaged number of sessions per day.    \n",
    "__avg_amount_per_day__ averaged spent amount per day.   \n",
    "__max_session_per_day__ max num of sessions per day.   \n",
    "__retention_1/3/7/30__ if user is active on 1/3/7/30 days after they download the app (only used in the second case).  \n",
    "__rev/amount_sum__ are the sum of rev/spend amount of each user.  \n",
    "__amount_max__ max abs(amount spent) of each user.  \n",
    "__weekend__ the weekend information of the installment (0 is weekday and 1 is weekend).  \n",
    "__payer__ self-converted customers.  \n",
    "\n",
    "__Note__: \n",
    "1. The problem is to identify the possible self-converted customers. To build the model, I tried to use data in two different ways 1) take only the first 24 hrs data of each user after the user starts playing the game 2) take the continuous daily data each user plays the game until the 24 hr break point. Based on the performance of the model results, I go with the __second method__. \n",
    "\n",
    "2. *Spendevents* can not be really used, because it contains the iaps purchase information (i.e., see spendtype).   "
   ]
  },
  {
   "cell_type": "code",
   "execution_count": 1,
   "metadata": {},
   "outputs": [],
   "source": [
    "import pandas as pd\n",
    "import numpy as np\n",
    "from pylab import *\n",
    "%matplotlib inline\n",
    "import re\n",
    "import matplotlib.pyplot as plt\n",
    "import seaborn as sns\n",
    "sns.set()\n",
    "from collections import Counter\n",
    "import warnings\n",
    "warnings.filterwarnings('ignore')"
   ]
  },
  {
   "cell_type": "code",
   "execution_count": 4,
   "metadata": {},
   "outputs": [],
   "source": [
    "#self-defined\n",
    "import hw\n",
    "from hw import *"
   ]
  },
  {
   "cell_type": "code",
   "execution_count": 6,
   "metadata": {},
   "outputs": [
    {
     "name": "stdout",
     "output_type": "stream",
     "text": [
      "Len of the data 22576\n"
     ]
    },
    {
     "data": {
      "text/html": [
       "<div>\n",
       "<style scoped>\n",
       "    .dataframe tbody tr th:only-of-type {\n",
       "        vertical-align: middle;\n",
       "    }\n",
       "\n",
       "    .dataframe tbody tr th {\n",
       "        vertical-align: top;\n",
       "    }\n",
       "\n",
       "    .dataframe thead th {\n",
       "        text-align: right;\n",
       "    }\n",
       "</style>\n",
       "<table border=\"1\" class=\"dataframe\">\n",
       "  <thead>\n",
       "    <tr style=\"text-align: right;\">\n",
       "      <th></th>\n",
       "      <th>udid</th>\n",
       "      <th>install_date</th>\n",
       "      <th>lang</th>\n",
       "      <th>country</th>\n",
       "      <th>hw_ver</th>\n",
       "      <th>os_ver</th>\n",
       "      <th>session_num</th>\n",
       "      <th>session_ts</th>\n",
       "      <th>session_date</th>\n",
       "      <th>iaps_ts</th>\n",
       "      <th>iaps_date</th>\n",
       "      <th>prod_name</th>\n",
       "      <th>prod_type</th>\n",
       "      <th>rev</th>\n",
       "      <th>spend_ts</th>\n",
       "      <th>spend_date</th>\n",
       "      <th>story</th>\n",
       "      <th>spendtype</th>\n",
       "      <th>currency</th>\n",
       "      <th>amount</th>\n",
       "    </tr>\n",
       "  </thead>\n",
       "  <tbody>\n",
       "    <tr>\n",
       "      <th>22574</th>\n",
       "      <td>a4eb133e656a44569895bb75e08c7048</td>\n",
       "      <td>2016-03-07</td>\n",
       "      <td>es</td>\n",
       "      <td>MX</td>\n",
       "      <td>iPod7,1</td>\n",
       "      <td>9.2</td>\n",
       "      <td>1,2,3,4</td>\n",
       "      <td>2016-03-07 22:20:51,2016-03-08 19:50:55,2016-0...</td>\n",
       "      <td>2016-03-07,2016-03-08,2016-03-08,2016-03-08</td>\n",
       "      <td>NaN</td>\n",
       "      <td>NaN</td>\n",
       "      <td>NaN</td>\n",
       "      <td>NaN</td>\n",
       "      <td>NaN</td>\n",
       "      <td>2016-03-07 22:23:18</td>\n",
       "      <td>2016-03-07</td>\n",
       "      <td>story_10</td>\n",
       "      <td>earnGemsCounter</td>\n",
       "      <td>gems</td>\n",
       "      <td>-22</td>\n",
       "    </tr>\n",
       "    <tr>\n",
       "      <th>22575</th>\n",
       "      <td>50c27649127e456b85d63e8cff304c4b</td>\n",
       "      <td>2016-03-07</td>\n",
       "      <td>en</td>\n",
       "      <td>US</td>\n",
       "      <td>iPod5,1</td>\n",
       "      <td>9.2.1</td>\n",
       "      <td>1,2,3,4,5,6,7,8,9,10,11,12,13,14,15,16,17,18,19</td>\n",
       "      <td>2016-03-07 22:27:26,2016-03-08 05:53:45,2016-0...</td>\n",
       "      <td>2016-03-07,2016-03-08,2016-03-08,2016-03-08,20...</td>\n",
       "      <td>NaN</td>\n",
       "      <td>NaN</td>\n",
       "      <td>NaN</td>\n",
       "      <td>NaN</td>\n",
       "      <td>NaN</td>\n",
       "      <td>2016-03-07 22:37:56,2016-03-07 22:37:56</td>\n",
       "      <td>2016-03-08,2016-03-08</td>\n",
       "      <td>story_10,story_10</td>\n",
       "      <td>earnGemsCounter,earnGemsCounter</td>\n",
       "      <td>gems,gems</td>\n",
       "      <td>-22,-22</td>\n",
       "    </tr>\n",
       "  </tbody>\n",
       "</table>\n",
       "</div>"
      ],
      "text/plain": [
       "                                   udid install_date lang country   hw_ver  \\\n",
       "22574  a4eb133e656a44569895bb75e08c7048   2016-03-07   es      MX  iPod7,1   \n",
       "22575  50c27649127e456b85d63e8cff304c4b   2016-03-07   en      US  iPod5,1   \n",
       "\n",
       "      os_ver                                      session_num  \\\n",
       "22574    9.2                                          1,2,3,4   \n",
       "22575  9.2.1  1,2,3,4,5,6,7,8,9,10,11,12,13,14,15,16,17,18,19   \n",
       "\n",
       "                                              session_ts  \\\n",
       "22574  2016-03-07 22:20:51,2016-03-08 19:50:55,2016-0...   \n",
       "22575  2016-03-07 22:27:26,2016-03-08 05:53:45,2016-0...   \n",
       "\n",
       "                                            session_date iaps_ts iaps_date  \\\n",
       "22574        2016-03-07,2016-03-08,2016-03-08,2016-03-08     NaN       NaN   \n",
       "22575  2016-03-07,2016-03-08,2016-03-08,2016-03-08,20...     NaN       NaN   \n",
       "\n",
       "      prod_name prod_type  rev                                 spend_ts  \\\n",
       "22574       NaN       NaN  NaN                      2016-03-07 22:23:18   \n",
       "22575       NaN       NaN  NaN  2016-03-07 22:37:56,2016-03-07 22:37:56   \n",
       "\n",
       "                  spend_date              story  \\\n",
       "22574             2016-03-07           story_10   \n",
       "22575  2016-03-08,2016-03-08  story_10,story_10   \n",
       "\n",
       "                             spendtype   currency   amount  \n",
       "22574                  earnGemsCounter       gems      -22  \n",
       "22575  earnGemsCounter,earnGemsCounter  gems,gems  -22,-22  "
      ]
     },
     "execution_count": 6,
     "metadata": {},
     "output_type": "execute_result"
    }
   ],
   "source": [
    "df = pd.read_csv('query_result.csv') # all the columns become object datatype, results from SQL selection  \n",
    "print('Len of the data',len(df))\n",
    "df.tail(2)"
   ]
  },
  {
   "cell_type": "code",
   "execution_count": 7,
   "metadata": {},
   "outputs": [
    {
     "name": "stdout",
     "output_type": "stream",
     "text": [
      "<class 'pandas.core.frame.DataFrame'>\n",
      "RangeIndex: 22576 entries, 0 to 22575\n",
      "Data columns (total 20 columns):\n",
      "udid            22576 non-null object\n",
      "install_date    22576 non-null object\n",
      "lang            22576 non-null object\n",
      "country         22564 non-null object\n",
      "hw_ver          22576 non-null object\n",
      "os_ver          22576 non-null object\n",
      "session_num     22544 non-null object\n",
      "session_ts      22544 non-null object\n",
      "session_date    22544 non-null object\n",
      "iaps_ts         1526 non-null object\n",
      "iaps_date       1526 non-null object\n",
      "prod_name       1526 non-null object\n",
      "prod_type       1526 non-null object\n",
      "rev             1526 non-null object\n",
      "spend_ts        18017 non-null object\n",
      "spend_date      18017 non-null object\n",
      "story           18017 non-null object\n",
      "spendtype       18017 non-null object\n",
      "currency        18017 non-null object\n",
      "amount          18017 non-null object\n",
      "dtypes: object(20)\n",
      "memory usage: 3.4+ MB\n"
     ]
    }
   ],
   "source": [
    "df.info()"
   ]
  },
  {
   "cell_type": "code",
   "execution_count": 8,
   "metadata": {},
   "outputs": [],
   "source": [
    "df['install_date']=df['install_date'].astype('datetime64[ns]')\n",
    "df['os_ver'] = df['os_ver'][pd.notnull(df['os_ver'])].str.replace('.','').apply(int)"
   ]
  },
  {
   "cell_type": "code",
   "execution_count": 9,
   "metadata": {},
   "outputs": [],
   "source": [
    "for col in ['session_ts', 'spend_ts', 'iaps_ts', 'rev', \\\n",
    "            'amount','spendtype','session_num','session_date','spend_date','story']:\n",
    "    df[col] = df[col][pd.notnull(df[col])].str.split(\",\")"
   ]
  },
  {
   "cell_type": "code",
   "execution_count": 10,
   "metadata": {},
   "outputs": [],
   "source": [
    "def output_before_break(col, index):\n",
    "    try:\n",
    "        output = col[0:(index+1)]\n",
    "    except (TypeError, ValueError):\n",
    "        output = col\n",
    "        pass\n",
    "    return output"
   ]
  },
  {
   "cell_type": "code",
   "execution_count": 11,
   "metadata": {},
   "outputs": [],
   "source": [
    "df['index_session'] = df.apply(lambda x: session_before_break(x['session_ts']),axis=1)"
   ]
  },
  {
   "cell_type": "code",
   "execution_count": 12,
   "metadata": {},
   "outputs": [],
   "source": [
    "df['session_num'] = df.apply(lambda x: output_before_break(x['session_num'],x['index_session']),axis=1)\n",
    "df['session_ts'] = df.apply(lambda x: output_before_break(x['session_ts'],x['index_session']),axis=1)\n",
    "df['session_date'] = df.apply(lambda x: output_before_break(x['session_date'],x['index_session']),axis=1)"
   ]
  },
  {
   "cell_type": "code",
   "execution_count": 13,
   "metadata": {},
   "outputs": [],
   "source": [
    "df['index_spend'] = df.apply(lambda x: spend_before_break(x['spend_ts'],x['session_ts']),axis=1)\n",
    "df['amount'] = df.apply(lambda x: output_before_break(x['amount'],x['index_spend']),axis=1)\n",
    "df['spend_ts'] = df.apply(lambda x: output_before_break(x['spend_ts'],x['index_spend']),axis=1)\n",
    "df['spend_date'] = df.apply(lambda x: output_before_break(x['spend_date'],x['index_spend']),axis=1)\n",
    "df['story'] = df.apply(lambda x: output_before_break(x['story'],x['index_spend']),axis=1)"
   ]
  },
  {
   "cell_type": "markdown",
   "metadata": {},
   "source": [
    "  "
   ]
  },
  {
   "cell_type": "code",
   "execution_count": 14,
   "metadata": {},
   "outputs": [],
   "source": [
    "def df_feature_engineer(df):\n",
    "    #df['delta_days_iaps'] = df.apply(lambda x: get_time_delta(x['iaps_ts'],x['install_date']),axis=1)\n",
    "    df['delta_days_sess'] = df.apply(lambda x: get_time_delta(x['session_ts'],x['install_date']),axis=1)\n",
    "    df['delta_days_spend'] = df.apply(lambda x: get_time_delta(x['spend_ts'],x['install_date']),axis=1)\n",
    "    #story \n",
    "    df['total_story'] = df['story'][pd.notnull(df['story'])].apply(unique).apply(len)\n",
    "    #rev, amount \n",
    "    df['rev'] = df['rev'][pd.notnull(df['rev'])].apply(lambda x:list(map(int, x)))\n",
    "    df['amount'] = df['amount'][pd.notnull(df['amount'])].apply(lambda x:list(map(int, x)))\n",
    "\n",
    "    df['rev_sum'] = df['rev'][pd.notnull(df['rev'])].apply(sum)\n",
    "    df['amount_sum'] = df['amount'][pd.notnull(df['amount'])].apply(sum)\n",
    "\n",
    "    df['total_session'] = df['session_num'][pd.notnull(df['session_num'])].apply(lambda x: len(x))\n",
    "    df['total_spend'] = df['spend_date'][pd.notnull(df['spend_date'])].apply(len)\n",
    "\n",
    "    df['amount_max'] = df['amount'][pd.notnull(df['amount'])].apply(lambda x: max(map(abs, x)) if x else None)\n",
    "\n",
    "    df['session_date_dic'] = df['session_date'][pd.notnull(df['session_date'])].apply(lambda x:dict(Counter(x)))\n",
    "    df['spend_date_dic'] = df['spend_date'][pd.notnull(df['spend_date'])].apply(lambda x:dict(Counter(x)))\n",
    "\n",
    "    df['active_session_days'] = df['session_date'][pd.notnull(df['session_date'])].apply(unique).apply(len)\n",
    "    df['active_spend_days'] = df['spend_date'][pd.notnull(df['spend_date'])].apply(unique).apply(len)\n",
    "\n",
    "    df['avg_session_per_day'] = df['session_date'][pd.notnull(df['session_date'])].\\\n",
    "                apply(lambda x: mean(list(Counter(x).values())))\n",
    "    df['avg_amount_per_day'] = df['amount_sum']/df['active_session_days']\n",
    "                                                                                \n",
    "\n",
    "    df['avg_session_duration'] = df['delta_days_sess'][pd.notnull(df['delta_days_sess'])].\\\n",
    "                        apply(lambda x: mean(np.diff(x))) \n",
    "    \n",
    "    df['avg_spend_duration'] = df['delta_days_spend'][pd.notnull(df['delta_days_spend'])].\\\n",
    "                        apply(lambda x: mean(np.diff(x)))\n",
    "\n",
    "    df['retention_1'] = df['delta_days_sess'][pd.notnull(df['delta_days_sess'])].apply(lambda x: retention(x,1))\n",
    "    df['retention_3'] = df['delta_days_sess'][pd.notnull(df['delta_days_sess'])].apply(lambda x: retention(x,3))\n",
    "    df['retention_7'] = df['delta_days_sess'][pd.notnull(df['delta_days_sess'])].apply(lambda x: retention(x,7))\n",
    "    df['retention_30'] = df['delta_days_sess'][pd.notnull(df['delta_days_sess'])].apply(lambda x: retention(x,30))\n",
    "\n",
    "    df['weekend'] = np.where(df['install_date'].apply(lambda x: x.weekday())>4,1,0) # \n",
    "    df['payer'] = np.where(df['rev'].notnull(),1,0)\n",
    "\n",
    "    df['payer'][18818] = 1 # df['IAP'] = df['spendtype'][pd.notnull(df['spendtype'])].apply(lambda x: spend_iap(x))\n",
    "    #df[(df['payer'] ==0) & (df['IAP'] ==1)]\n",
    "    return df"
   ]
  },
  {
   "cell_type": "code",
   "execution_count": 15,
   "metadata": {},
   "outputs": [],
   "source": [
    "df = df_feature_engineer(df)"
   ]
  },
  {
   "cell_type": "code",
   "execution_count": 16,
   "metadata": {},
   "outputs": [
    {
     "data": {
      "text/plain": [
       "Index(['udid', 'install_date', 'lang', 'country', 'hw_ver', 'os_ver',\n",
       "       'session_num', 'session_ts', 'session_date', 'iaps_ts', 'iaps_date',\n",
       "       'prod_name', 'prod_type', 'rev', 'spend_ts', 'spend_date', 'story',\n",
       "       'spendtype', 'currency', 'amount', 'index_session', 'index_spend',\n",
       "       'delta_days_sess', 'delta_days_spend', 'total_story', 'rev_sum',\n",
       "       'amount_sum', 'total_session', 'total_spend', 'amount_max',\n",
       "       'session_date_dic', 'spend_date_dic', 'active_session_days',\n",
       "       'active_spend_days', 'avg_session_per_day', 'avg_amount_per_day',\n",
       "       'avg_session_duration', 'avg_spend_duration', 'retention_1',\n",
       "       'retention_3', 'retention_7', 'retention_30', 'weekend', 'payer'],\n",
       "      dtype='object')"
      ]
     },
     "execution_count": 16,
     "metadata": {},
     "output_type": "execute_result"
    }
   ],
   "source": [
    "df.columns"
   ]
  },
  {
   "cell_type": "code",
   "execution_count": 17,
   "metadata": {},
   "outputs": [],
   "source": [
    "df_new = df.drop(columns=['story','currency','session_num',\\\n",
    "                      'spendtype','session_ts','iaps_ts','spend_ts',\\\n",
    "                      'session_date','spend_date','index_session','index_spend'])"
   ]
  },
  {
   "cell_type": "code",
   "execution_count": 18,
   "metadata": {},
   "outputs": [
    {
     "data": {
      "text/plain": [
       "Index(['udid', 'install_date', 'lang', 'country', 'hw_ver', 'os_ver',\n",
       "       'iaps_date', 'prod_name', 'prod_type', 'rev', 'amount',\n",
       "       'delta_days_sess', 'delta_days_spend', 'total_story', 'rev_sum',\n",
       "       'amount_sum', 'total_session', 'total_spend', 'amount_max',\n",
       "       'session_date_dic', 'spend_date_dic', 'active_session_days',\n",
       "       'active_spend_days', 'avg_session_per_day', 'avg_amount_per_day',\n",
       "       'avg_session_duration', 'avg_spend_duration', 'retention_1',\n",
       "       'retention_3', 'retention_7', 'retention_30', 'weekend', 'payer'],\n",
       "      dtype='object')"
      ]
     },
     "execution_count": 18,
     "metadata": {},
     "output_type": "execute_result"
    }
   ],
   "source": [
    "df_new.columns"
   ]
  },
  {
   "cell_type": "code",
   "execution_count": 19,
   "metadata": {},
   "outputs": [],
   "source": [
    "df_new.to_csv('df_break.csv',index=False)"
   ]
  },
  {
   "cell_type": "code",
   "execution_count": 20,
   "metadata": {},
   "outputs": [
    {
     "data": {
      "text/html": [
       "<div>\n",
       "<style scoped>\n",
       "    .dataframe tbody tr th:only-of-type {\n",
       "        vertical-align: middle;\n",
       "    }\n",
       "\n",
       "    .dataframe tbody tr th {\n",
       "        vertical-align: top;\n",
       "    }\n",
       "\n",
       "    .dataframe thead th {\n",
       "        text-align: right;\n",
       "    }\n",
       "</style>\n",
       "<table border=\"1\" class=\"dataframe\">\n",
       "  <thead>\n",
       "    <tr style=\"text-align: right;\">\n",
       "      <th></th>\n",
       "      <th>udid</th>\n",
       "      <th>install_date</th>\n",
       "      <th>lang</th>\n",
       "      <th>country</th>\n",
       "      <th>hw_ver</th>\n",
       "      <th>os_ver</th>\n",
       "      <th>iaps_date</th>\n",
       "      <th>prod_name</th>\n",
       "      <th>prod_type</th>\n",
       "      <th>rev</th>\n",
       "      <th>...</th>\n",
       "      <th>avg_session_per_day</th>\n",
       "      <th>avg_amount_per_day</th>\n",
       "      <th>avg_session_duration</th>\n",
       "      <th>avg_spend_duration</th>\n",
       "      <th>retention_1</th>\n",
       "      <th>retention_3</th>\n",
       "      <th>retention_7</th>\n",
       "      <th>retention_30</th>\n",
       "      <th>weekend</th>\n",
       "      <th>payer</th>\n",
       "    </tr>\n",
       "  </thead>\n",
       "  <tbody>\n",
       "    <tr>\n",
       "      <th>22574</th>\n",
       "      <td>a4eb133e656a44569895bb75e08c7048</td>\n",
       "      <td>2016-03-07</td>\n",
       "      <td>es</td>\n",
       "      <td>MX</td>\n",
       "      <td>iPod7,1</td>\n",
       "      <td>92</td>\n",
       "      <td>NaN</td>\n",
       "      <td>NaN</td>\n",
       "      <td>NaN</td>\n",
       "      <td>NaN</td>\n",
       "      <td>...</td>\n",
       "      <td>2.0</td>\n",
       "      <td>-11.0</td>\n",
       "      <td>0.299225</td>\n",
       "      <td>NaN</td>\n",
       "      <td>1.0</td>\n",
       "      <td>0.0</td>\n",
       "      <td>0.0</td>\n",
       "      <td>0.0</td>\n",
       "      <td>0</td>\n",
       "      <td>0</td>\n",
       "    </tr>\n",
       "    <tr>\n",
       "      <th>22575</th>\n",
       "      <td>50c27649127e456b85d63e8cff304c4b</td>\n",
       "      <td>2016-03-07</td>\n",
       "      <td>en</td>\n",
       "      <td>US</td>\n",
       "      <td>iPod5,1</td>\n",
       "      <td>921</td>\n",
       "      <td>NaN</td>\n",
       "      <td>NaN</td>\n",
       "      <td>NaN</td>\n",
       "      <td>NaN</td>\n",
       "      <td>...</td>\n",
       "      <td>4.5</td>\n",
       "      <td>-22.0</td>\n",
       "      <td>0.079097</td>\n",
       "      <td>0.0</td>\n",
       "      <td>1.0</td>\n",
       "      <td>0.0</td>\n",
       "      <td>0.0</td>\n",
       "      <td>0.0</td>\n",
       "      <td>0</td>\n",
       "      <td>0</td>\n",
       "    </tr>\n",
       "  </tbody>\n",
       "</table>\n",
       "<p>2 rows × 33 columns</p>\n",
       "</div>"
      ],
      "text/plain": [
       "                                   udid install_date lang country   hw_ver  \\\n",
       "22574  a4eb133e656a44569895bb75e08c7048   2016-03-07   es      MX  iPod7,1   \n",
       "22575  50c27649127e456b85d63e8cff304c4b   2016-03-07   en      US  iPod5,1   \n",
       "\n",
       "       os_ver iaps_date prod_name prod_type  rev  ...  avg_session_per_day  \\\n",
       "22574      92       NaN       NaN       NaN  NaN  ...                  2.0   \n",
       "22575     921       NaN       NaN       NaN  NaN  ...                  4.5   \n",
       "\n",
       "      avg_amount_per_day avg_session_duration  avg_spend_duration  \\\n",
       "22574              -11.0             0.299225                 NaN   \n",
       "22575              -22.0             0.079097                 0.0   \n",
       "\n",
       "       retention_1  retention_3  retention_7  retention_30  weekend payer  \n",
       "22574          1.0          0.0          0.0           0.0        0     0  \n",
       "22575          1.0          0.0          0.0           0.0        0     0  \n",
       "\n",
       "[2 rows x 33 columns]"
      ]
     },
     "execution_count": 20,
     "metadata": {},
     "output_type": "execute_result"
    }
   ],
   "source": [
    "df_new.tail(2)"
   ]
  },
  {
   "cell_type": "markdown",
   "metadata": {},
   "source": [
    "Okay, now I have re-organized the dataset and done the feature engineer. Now feature exploration, visulazation and modeling. "
   ]
  },
  {
   "cell_type": "code",
   "execution_count": 21,
   "metadata": {},
   "outputs": [
    {
     "data": {
      "image/png": "[encoded data removed]",
      "text/plain": [
       "<Figure size 432x288 with 1 Axes>"
      ]
     },
     "metadata": {},
     "output_type": "display_data"
    }
   ],
   "source": [
    "# binary classification \n",
    "countplt = sns.countplot(x = 'payer', data = df_new, palette='cubehelix')"
   ]
  },
  {
   "cell_type": "code",
   "execution_count": 22,
   "metadata": {},
   "outputs": [
    {
     "data": {
      "text/plain": [
       "payer\n",
       "0    21049\n",
       "1     1527\n",
       "Name: udid, dtype: int64"
      ]
     },
     "execution_count": 22,
     "metadata": {},
     "output_type": "execute_result"
    }
   ],
   "source": [
    "df_new.groupby('payer').count()['udid']"
   ]
  },
  {
   "cell_type": "code",
   "execution_count": 23,
   "metadata": {},
   "outputs": [],
   "source": [
    "rev_customer = df[df['rev'].notnull()]"
   ]
  },
  {
   "cell_type": "code",
   "execution_count": 39,
   "metadata": {},
   "outputs": [],
   "source": [
    "def compare_time(sess_ts, rev_ts):\n",
    "    if pd.to_datetime(sess_ts[-1]) > pd.to_datetime(rev_ts[0]):\n",
    "        return 1\n",
    "    else:\n",
    "        return 0"
   ]
  },
  {
   "cell_type": "code",
   "execution_count": 41,
   "metadata": {},
   "outputs": [],
   "source": [
    "rev_customer['fpb'] = rev_customer.apply(lambda x: compare_time(x['session_ts'],x['iaps_ts']), axis =1)"
   ]
  },
  {
   "cell_type": "code",
   "execution_count": 51,
   "metadata": {},
   "outputs": [
    {
     "name": "stdout",
     "output_type": "stream",
     "text": [
      "Percentage of Customers Finish the First Purchase before the 24hr break 0.6998689384010485\n"
     ]
    }
   ],
   "source": [
    "print('Percentage of Customers Finish the First Purchase before the 24hr break',\\\n",
    "      sum(rev_customer['fpb'])/len(rev_customer['fpb']))"
   ]
  },
  {
   "cell_type": "markdown",
   "metadata": {},
   "source": [
    "__Summary_Part1_Data__ \n",
    "\n",
    "\n",
    "1. The data contains the activity information of 22576 users. The label is imbalanced (1527 vs 21049). 6.76% of the total customers in the whole dataset are true payers. Note: there is one missing labeled self-converted customer based on the spendtype information in the spendtype I have corrected.\n",
    "\n",
    "2. Generated features based on the session/spend activities, all before the break point of the continuous use of the app of each customer. There is quite some noise in the dataset, for example, in the amount column, there appear extreme numbers such as -300000. Do not know why.  \n",
    "\n",
    "3. Before the first 24hrs break, 70% self-converted customers already finished their first purchase. "
   ]
  }
 ],
 "metadata": {
  "kernelspec": {
   "display_name": "Python 3",
   "language": "python",
   "name": "python3"
  },
  "language_info": {
   "codemirror_mode": {
    "name": "ipython",
    "version": 3
   },
   "file_extension": ".py",
   "mimetype": "text/x-python",
   "name": "python",
   "nbconvert_exporter": "python",
   "pygments_lexer": "ipython3",
   "version": "3.6.6"
  }
 },
 "nbformat": 4,
 "nbformat_minor": 2
}
