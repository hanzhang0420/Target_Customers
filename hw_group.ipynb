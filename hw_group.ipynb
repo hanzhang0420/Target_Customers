{
 "cells": [
  {
   "cell_type": "markdown",
   "metadata": {},
   "source": [
    "### Part2: HW_target_customer\n",
    "__Question #1__. \n",
    "Specify a target group of users. Justify your choice using the sample data.\n",
    "\n",
    "__Question #2__. \n",
    "Specify a test and evaluation protocol. How long should the test run? How will you know if you have successfully increased revenue?\n",
    "\n",
    "__Mathmatical View of the Problem__ \n",
    "\n",
    "A *two-for-one* sale, for example, the self-converted customer will spend 2 dollars for 2 gems, however, with promotions, the customer can buy 2 gems with 1 dollar. \n",
    "Assuming we have N$_{self convert}$ customers, the rest customers, might be converted by promotion sales N$_{target}$ by conversion rate p. \n",
    "\n",
    "- __Without promotion__:\n",
    "Revenue only comes from self-converted customers. y_np = N$_{self convert}$$\\times$2\n",
    "\n",
    "- __Ideal case with promotion__:\n",
    "We can perfectly identidy all the self-converted customers, and provide promotion codes to all the other non self-converted customers.\n",
    "y_ideal = N$_{self convert}$$\\times$2 + (N$_{total}$-N$_{self convert}$)$\\times$1$\\times$p \n",
    "\n",
    "- __Real case__:\n",
    "We select our target customers N$_{target}$ and we might wrongly provide promotion code to self-converted customers (false negative). Assuming self-converted customers will definitely buy the product.\n",
    "y_real = (N$_{self convert}$-FN)$\\times$2 + FN$\\times$1 + (N$_{target}$-FN)$\\times$1$\\times$p. \n",
    "The incremental revenue compared with no promotion (N$_{target}$-FN)$\\times$1$\\times$p-FN.   \n",
    "Assuming p is a fixed small value, and alpha is the rate FN/N$_{target}$,\n",
    "__y = [p-alpha$\\times$(p+1)]$\\times$N$_{target}$__\n",
    "\n",
    "Therefore the goal is to minimize alpha. \n",
    "\n",
    "The main focus of this notebook is to explore the self-converted customer data and feature visualization. \n",
    "\n",
    "Plots:\n",
    "1. Distribution of the first purchase date after app installment. \n",
    "2. Revenue vs amount spent. \n",
    "3. Retention according to the one-quarter data. \n",
    "4. Matthew Effect: a customer who buys once will come back. \n"
   ]
  },
  {
   "cell_type": "code",
   "execution_count": 1,
   "metadata": {},
   "outputs": [],
   "source": [
    "import pandas as pd\n",
    "import numpy as np\n",
    "from pylab import *\n",
    "%matplotlib inline\n",
    "import re\n",
    "import matplotlib.pyplot as plt\n",
    "import seaborn as sns\n",
    "sns.set()\n",
    "from collections import Counter\n",
    "import warnings\n",
    "warnings.filterwarnings('ignore')\n",
    "from datetime import datetime,date"
   ]
  },
  {
   "cell_type": "code",
   "execution_count": 2,
   "metadata": {},
   "outputs": [],
   "source": [
    "#self-defined\n",
    "import hw\n",
    "from hw import *\n",
    "#from house_functions import * "
   ]
  },
  {
   "cell_type": "code",
   "execution_count": 3,
   "metadata": {},
   "outputs": [
    {
     "name": "stdout",
     "output_type": "stream",
     "text": [
      "Len of the data 22576\n"
     ]
    },
    {
     "data": {
      "text/html": [
       "<div>\n",
       "<style scoped>\n",
       "    .dataframe tbody tr th:only-of-type {\n",
       "        vertical-align: middle;\n",
       "    }\n",
       "\n",
       "    .dataframe tbody tr th {\n",
       "        vertical-align: top;\n",
       "    }\n",
       "\n",
       "    .dataframe thead th {\n",
       "        text-align: right;\n",
       "    }\n",
       "</style>\n",
       "<table border=\"1\" class=\"dataframe\">\n",
       "  <thead>\n",
       "    <tr style=\"text-align: right;\">\n",
       "      <th></th>\n",
       "      <th>udid</th>\n",
       "      <th>install_date</th>\n",
       "      <th>lang</th>\n",
       "      <th>country</th>\n",
       "      <th>hw_ver</th>\n",
       "      <th>os_ver</th>\n",
       "      <th>session_num</th>\n",
       "      <th>session_ts</th>\n",
       "      <th>session_date</th>\n",
       "      <th>iaps_ts</th>\n",
       "      <th>iaps_date</th>\n",
       "      <th>prod_name</th>\n",
       "      <th>prod_type</th>\n",
       "      <th>rev</th>\n",
       "      <th>spend_ts</th>\n",
       "      <th>spend_date</th>\n",
       "      <th>story</th>\n",
       "      <th>spendtype</th>\n",
       "      <th>currency</th>\n",
       "      <th>amount</th>\n",
       "    </tr>\n",
       "  </thead>\n",
       "  <tbody>\n",
       "    <tr>\n",
       "      <th>22574</th>\n",
       "      <td>a4eb133e656a44569895bb75e08c7048</td>\n",
       "      <td>2016-03-07</td>\n",
       "      <td>es</td>\n",
       "      <td>MX</td>\n",
       "      <td>iPod7,1</td>\n",
       "      <td>9.2</td>\n",
       "      <td>1,2,3,4</td>\n",
       "      <td>2016-03-07 22:20:51,2016-03-08 19:50:55,2016-0...</td>\n",
       "      <td>2016-03-07,2016-03-08,2016-03-08,2016-03-08</td>\n",
       "      <td>NaN</td>\n",
       "      <td>NaN</td>\n",
       "      <td>NaN</td>\n",
       "      <td>NaN</td>\n",
       "      <td>NaN</td>\n",
       "      <td>2016-03-07 22:23:18</td>\n",
       "      <td>2016-03-07</td>\n",
       "      <td>story_10</td>\n",
       "      <td>earnGemsCounter</td>\n",
       "      <td>gems</td>\n",
       "      <td>-22</td>\n",
       "    </tr>\n",
       "    <tr>\n",
       "      <th>22575</th>\n",
       "      <td>50c27649127e456b85d63e8cff304c4b</td>\n",
       "      <td>2016-03-07</td>\n",
       "      <td>en</td>\n",
       "      <td>US</td>\n",
       "      <td>iPod5,1</td>\n",
       "      <td>9.2.1</td>\n",
       "      <td>1,2,3,4,5,6,7,8,9,10,11,12,13,14,15,16,17,18,19</td>\n",
       "      <td>2016-03-07 22:27:26,2016-03-08 05:53:45,2016-0...</td>\n",
       "      <td>2016-03-07,2016-03-08,2016-03-08,2016-03-08,20...</td>\n",
       "      <td>NaN</td>\n",
       "      <td>NaN</td>\n",
       "      <td>NaN</td>\n",
       "      <td>NaN</td>\n",
       "      <td>NaN</td>\n",
       "      <td>2016-03-07 22:37:56,2016-03-07 22:37:56</td>\n",
       "      <td>2016-03-08,2016-03-08</td>\n",
       "      <td>story_10,story_10</td>\n",
       "      <td>earnGemsCounter,earnGemsCounter</td>\n",
       "      <td>gems,gems</td>\n",
       "      <td>-22,-22</td>\n",
       "    </tr>\n",
       "  </tbody>\n",
       "</table>\n",
       "</div>"
      ],
      "text/plain": [
       "                                   udid install_date lang country   hw_ver  \\\n",
       "22574  a4eb133e656a44569895bb75e08c7048   2016-03-07   es      MX  iPod7,1   \n",
       "22575  50c27649127e456b85d63e8cff304c4b   2016-03-07   en      US  iPod5,1   \n",
       "\n",
       "      os_ver                                      session_num  \\\n",
       "22574    9.2                                          1,2,3,4   \n",
       "22575  9.2.1  1,2,3,4,5,6,7,8,9,10,11,12,13,14,15,16,17,18,19   \n",
       "\n",
       "                                              session_ts  \\\n",
       "22574  2016-03-07 22:20:51,2016-03-08 19:50:55,2016-0...   \n",
       "22575  2016-03-07 22:27:26,2016-03-08 05:53:45,2016-0...   \n",
       "\n",
       "                                            session_date iaps_ts iaps_date  \\\n",
       "22574        2016-03-07,2016-03-08,2016-03-08,2016-03-08     NaN       NaN   \n",
       "22575  2016-03-07,2016-03-08,2016-03-08,2016-03-08,20...     NaN       NaN   \n",
       "\n",
       "      prod_name prod_type  rev                                 spend_ts  \\\n",
       "22574       NaN       NaN  NaN                      2016-03-07 22:23:18   \n",
       "22575       NaN       NaN  NaN  2016-03-07 22:37:56,2016-03-07 22:37:56   \n",
       "\n",
       "                  spend_date              story  \\\n",
       "22574             2016-03-07           story_10   \n",
       "22575  2016-03-08,2016-03-08  story_10,story_10   \n",
       "\n",
       "                             spendtype   currency   amount  \n",
       "22574                  earnGemsCounter       gems      -22  \n",
       "22575  earnGemsCounter,earnGemsCounter  gems,gems  -22,-22  "
      ]
     },
     "execution_count": 3,
     "metadata": {},
     "output_type": "execute_result"
    }
   ],
   "source": [
    "df = pd.read_csv('query_result.csv') # all the columns become object datatype, results from SQL selection  \n",
    "print('Len of the data',len(df))\n",
    "df.tail(2)"
   ]
  },
  {
   "cell_type": "code",
   "execution_count": 4,
   "metadata": {},
   "outputs": [],
   "source": [
    "df['install_date']=df['install_date'].astype('datetime64[ns]')"
   ]
  },
  {
   "cell_type": "code",
   "execution_count": 5,
   "metadata": {},
   "outputs": [],
   "source": [
    "for col in ['session_ts', 'spend_ts', 'iaps_ts', 'rev', 'amount']:\n",
    "    df[col] = df[col][pd.notnull(df[col])].str.split(\",\")"
   ]
  },
  {
   "cell_type": "code",
   "execution_count": 6,
   "metadata": {},
   "outputs": [],
   "source": [
    "df['delta_days_iaps'] = df.apply(lambda x: get_time_delta(x['iaps_ts'],x['install_date']),axis=1)\n",
    "df['delta_days_sess'] = df.apply(lambda x: get_time_delta(x['session_ts'],x['install_date']),axis=1)\n",
    "#df['delta_days_spend'] = df.apply(lambda x: get_time_delta(x['spend_ts'],x['install_date']),axis=1)"
   ]
  },
  {
   "cell_type": "code",
   "execution_count": 7,
   "metadata": {},
   "outputs": [],
   "source": [
    "#rev, amount \n",
    "df['rev'] = df['rev'][pd.notnull(df['rev'])].apply(lambda x:list(map(int, x)))\n",
    "df['amount'] = df['amount'][pd.notnull(df['amount'])].apply(lambda x:list(map(int, x)))\n",
    "\n",
    "df['rev_sum'] = df['rev'][pd.notnull(df['rev'])].apply(sum)\n",
    "df['amount_sum'] = df['amount'][pd.notnull(df['amount'])].apply(sum)"
   ]
  },
  {
   "cell_type": "markdown",
   "metadata": {},
   "source": [
    "### 1. First Purchase Date After Installment "
   ]
  },
  {
   "cell_type": "code",
   "execution_count": 8,
   "metadata": {},
   "outputs": [],
   "source": [
    "rev_customer = df[df['rev'].notnull()]"
   ]
  },
  {
   "cell_type": "code",
   "execution_count": 9,
   "metadata": {},
   "outputs": [
    {
     "data": {
      "text/plain": [
       "Text(0,0.5,'Counts')"
      ]
     },
     "execution_count": 9,
     "metadata": {},
     "output_type": "execute_result"
    },
    {
     "data": {
      "image/png": "[encoded data removed]",
      "text/plain": [
       "<Figure size 432x288 with 1 Axes>"
      ]
     },
     "metadata": {},
     "output_type": "display_data"
    }
   ],
   "source": [
    "first_purchase_date = rev_customer['delta_days_iaps'][rev_customer['delta_days_iaps'].notnull()].apply(lambda x: x[0])\n",
    "counts, bins, bars = plt.hist(first_purchase_date,bins=30,color='lightblue')\n",
    "x = (bins[1:]+bins[:-1])/2.0\n",
    "plt.plot(x, counts,'k-',label = 'counts')\n",
    "plt.plot(x,1000/(x)**2,'r--',linewidth =2,label = 'fitting')\n",
    "plt.legend()\n",
    "plt.xlabel('First Purchase Date - Installment Date (Days)')\n",
    "plt.ylabel('Counts')"
   ]
  },
  {
   "cell_type": "code",
   "execution_count": 11,
   "metadata": {},
   "outputs": [
    {
     "name": "stdout",
     "output_type": "stream",
     "text": [
      "number of self-converted customers with the first day of app installment 0.4744429882044561\n"
     ]
    }
   ],
   "source": [
    "print('number of self-converted customers with the first day of app installment',\n",
    "      sum(first_purchase_date<=1)/len(first_purchase_date))"
   ]
  },
  {
   "cell_type": "markdown",
   "metadata": {},
   "source": [
    "As shown by the distribution plot, about 47.4% self-converted customers will pay on the first day of app installment. The number of people who purchase on day P(N) ~ 1/N$^{2}$. On the first day after installment, 1527/22576 (6.76%) is true payers. After the first day, in the left customers (those we still do not know if they are true payers or not), 793/13822 (5.73%) is true payers.  "
   ]
  },
  {
   "cell_type": "markdown",
   "metadata": {},
   "source": [
    "### 2. Revenue vs Amount Spent "
   ]
  },
  {
   "cell_type": "code",
   "execution_count": 12,
   "metadata": {},
   "outputs": [
    {
     "data": {
      "image/png": "[encoded data removed]",
      "text/plain": [
       "<Figure size 504x504 with 3 Axes>"
      ]
     },
     "metadata": {},
     "output_type": "display_data"
    }
   ],
   "source": [
    "g = sns.jointplot(\"rev_sum\", \"amount_sum\", data=rev_customer, kind=\"reg\",\n",
    "                   ylim=(-1000, 200),color=\"m\", height=7)"
   ]
  },
  {
   "cell_type": "markdown",
   "metadata": {},
   "source": [
    "### 3. Retention (DAU vs time) "
   ]
  },
  {
   "cell_type": "code",
   "execution_count": 13,
   "metadata": {},
   "outputs": [],
   "source": [
    "retent=np.zeros(60)\n",
    "for i in range(0,60):\n",
    "    retent[i] = (sum(df['delta_days_sess'][pd.notnull(df['delta_days_sess'])].apply(lambda x: retention(x,i))))"
   ]
  },
  {
   "cell_type": "code",
   "execution_count": 14,
   "metadata": {},
   "outputs": [
    {
     "data": {
      "text/plain": [
       "Text(0,0.5,'Number of Stayed Customers')"
      ]
     },
     "execution_count": 14,
     "metadata": {},
     "output_type": "execute_result"
    },
    {
     "data": {
      "image/png": "[encoded data removed]",
      "text/plain": [
       "<Figure size 432x288 with 1 Axes>"
      ]
     },
     "metadata": {},
     "output_type": "display_data"
    }
   ],
   "source": [
    "plt.plot(retent,'ro')\n",
    "plt.xlabel('Days after Installment')\n",
    "plt.ylabel('Number of Stayed Customers')"
   ]
  },
  {
   "cell_type": "markdown",
   "metadata": {},
   "source": [
    "### 4. Customers Come Back "
   ]
  },
  {
   "cell_type": "code",
   "execution_count": 15,
   "metadata": {},
   "outputs": [],
   "source": [
    "rev_customer['total_iaps'] = rev_customer['iaps_ts'].apply(unique).apply(len)"
   ]
  },
  {
   "cell_type": "code",
   "execution_count": 16,
   "metadata": {},
   "outputs": [
    {
     "data": {
      "text/plain": [
       "<matplotlib.axes._subplots.AxesSubplot at 0x1a19a3e1d0>"
      ]
     },
     "execution_count": 16,
     "metadata": {},
     "output_type": "execute_result"
    },
    {
     "data": {
      "image/png": "[encoded data removed]",
      "text/plain": [
       "<Figure size 432x288 with 1 Axes>"
      ]
     },
     "metadata": {},
     "output_type": "display_data"
    }
   ],
   "source": [
    "sns.distplot(rev_customer['total_iaps'],kde=False)"
   ]
  },
  {
   "cell_type": "code",
   "execution_count": 82,
   "metadata": {},
   "outputs": [
    {
     "data": {
      "text/plain": [
       "0.6762778505897772"
      ]
     },
     "execution_count": 82,
     "metadata": {},
     "output_type": "execute_result"
    }
   ],
   "source": [
    "sum(rev_customer['total_iaps']>1)/len(rev_customer['total_iaps'])"
   ]
  },
  {
   "cell_type": "markdown",
   "metadata": {},
   "source": [
    "More than half customers buy more than once. "
   ]
  },
  {
   "cell_type": "code",
   "execution_count": 49,
   "metadata": {},
   "outputs": [
    {
     "name": "stdout",
     "output_type": "stream",
     "text": [
      "avg daily app download 3225.1428571428573\n"
     ]
    }
   ],
   "source": [
    "print('avg daily app download',mean(df.groupby('install_date').count()['udid']))"
   ]
  },
  {
   "cell_type": "markdown",
   "metadata": {},
   "source": [
    "__Question #1__. \n",
    "Specify a target group of users. Justify your choice using the sample data.\n",
    "\n",
    "I tried to think of a way to make the selection without doing the modeling (maybe use some features as cutoff), however, building a model to classify true payer and non payers is still the best way to do I think.  \n",
    "For each user, I find the time point when the user stops using the game over 24 hrs and use the data before that time point. Then apply the classification model (20 features) to find the \"non-payers\". The best performed model (random forest) has alpha ~ 0.37%. \n",
    "\n",
    "__Question #2__. \n",
    "Specify a test and evaluation protocol. How long should the test run? How will you know if you have successfully increased revenue?\n",
    "\n",
    "__Assumption__: \n",
    "The promotion convertion rate is missing and here I adopt the promotion conversion rate 2%, statistical power 80%, and confidence intervel 95%. \n",
    "\n",
    "__A/B test__:\n",
    "Randomly group new users into treatment and control groups. \n",
    "The experiment runs for 7 days (eliminate bias from weekend/weekdays, enough time to collect data, enough time for customers to convert). \n",
    "\n",
    "__Control group__: No promotion. Conversion rate (2$\\times$0.0676 = 0.1352)  \n",
    "__Treatment group__: Based on the users data before the 24hrs break, apply models to classify non-payer customers and send promotion code to those customers. Lifted conversion rate (2$\\times$0.0676-(0.004)$\\times$1.02+0.02 = 0.1511) \n",
    "\n",
    "[Sample Size](https://docs.adobe.com/content/target-microsite/testcalculator.html) ~8676 per group.  \n",
    "\n",
    "__Comments__: \n",
    "Other metrics worth looking at, the increased total number of payers, gini index of the payers etc.  Long-term effect: some non-payers may transit to be true payers because of the promotion pay. \n",
    "\n",
    "Note: Some of my reasoning are based on the analysis in notebook part3."
   ]
  }
 ],
 "metadata": {
  "kernelspec": {
   "display_name": "Python 3",
   "language": "python",
   "name": "python3"
  },
  "language_info": {
   "codemirror_mode": {
    "name": "ipython",
    "version": 3
   },
   "file_extension": ".py",
   "mimetype": "text/x-python",
   "name": "python",
   "nbconvert_exporter": "python",
   "pygments_lexer": "ipython3",
   "version": "3.6.6"
  }
 },
 "nbformat": 4,
 "nbformat_minor": 2
}
